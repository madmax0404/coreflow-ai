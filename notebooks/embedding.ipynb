{
 "cells": [
  {
   "cell_type": "code",
   "execution_count": null,
   "id": "4c863c86",
   "metadata": {},
   "outputs": [],
   "source": [
    "import json\n",
    "from dotenv import load_dotenv\n",
    "import os\n",
    "from langchain_openai import OpenAIEmbeddings\n",
    "import re\n",
    "import pandas as pd\n",
    "import numpy as np\n",
    "from sentence_transformers import SentenceTransformer"
   ]
  },
  {
   "cell_type": "code",
   "execution_count": null,
   "id": "d8224a0a",
   "metadata": {},
   "outputs": [],
   "source": [
    "# load_dotenv()\n",
    "# Load the model\n",
    "# model = SentenceTransformer(\"Qwen/Qwen3-Embedding-4B\")"
   ]
  },
  {
   "cell_type": "code",
   "execution_count": null,
   "id": "167dcdfe",
   "metadata": {},
   "outputs": [],
   "source": [
    "# We recommend enabling flash_attention_2 for better acceleration and memory saving,\n",
    "# together with setting `padding_side` to \"left\":\n",
    "# model = SentenceTransformer(\n",
    "#     \"Qwen/Qwen3-Embedding-4B\",\n",
    "#     model_kwargs={\"attn_implementation\": \"flash_attention_2\", \"device_map\": \"auto\"},\n",
    "#     tokenizer_kwargs={\"padding_side\": \"left\"},\n",
    "# )"
   ]
  },
  {
   "cell_type": "code",
   "execution_count": null,
   "id": "271c2cb0",
   "metadata": {},
   "outputs": [],
   "source": [
    "model = SentenceTransformer(\n",
    "    \"Qwen/Qwen3-Embedding-4B\",\n",
    "    tokenizer_kwargs={\"padding_side\": \"left\"},\n",
    ")"
   ]
  },
  {
   "cell_type": "code",
   "execution_count": null,
   "id": "fa67524c",
   "metadata": {},
   "outputs": [],
   "source": [
    "docs_df = pd.read_csv(\"../data/split_docs_20250904.csv\")\n",
    "print(docs_df.shape)\n",
    "docs_df.head()"
   ]
  },
  {
   "cell_type": "code",
   "execution_count": null,
   "id": "b4c66b05",
   "metadata": {},
   "outputs": [],
   "source": [
    "docs_list = docs_df[\"docs\"].tolist()\n",
    "len(docs_list)\n",
    "docs_list[:5]"
   ]
  },
  {
   "cell_type": "code",
   "execution_count": null,
   "id": "af46143c",
   "metadata": {},
   "outputs": [],
   "source": [
    "doc_embeddings = model.encode(docs_list[:5])"
   ]
  },
  {
   "cell_type": "code",
   "execution_count": null,
   "id": "21472ae2",
   "metadata": {},
   "outputs": [],
   "source": []
  },
  {
   "cell_type": "code",
   "execution_count": null,
   "id": "7dbf6c0f",
   "metadata": {},
   "outputs": [],
   "source": []
  },
  {
   "cell_type": "code",
   "execution_count": null,
   "id": "fcbdc43f",
   "metadata": {},
   "outputs": [],
   "source": []
  },
  {
   "cell_type": "code",
   "execution_count": null,
   "id": "b0c56e05",
   "metadata": {},
   "outputs": [],
   "source": []
  },
  {
   "cell_type": "code",
   "execution_count": null,
   "id": "bd10d252",
   "metadata": {},
   "outputs": [],
   "source": []
  },
  {
   "cell_type": "code",
   "execution_count": null,
   "id": "19fa92f7",
   "metadata": {},
   "outputs": [],
   "source": [
    "vector_store = Chroma.from_texts(texts=texts_list, )"
   ]
  },
  {
   "cell_type": "code",
   "execution_count": null,
   "id": "e21b2c26",
   "metadata": {},
   "outputs": [],
   "source": [
    "embeddings.embed_documents"
   ]
  },
  {
   "cell_type": "code",
   "execution_count": null,
   "id": "cff15f61",
   "metadata": {},
   "outputs": [],
   "source": []
  },
  {
   "cell_type": "code",
   "execution_count": null,
   "id": "bd94d0ff",
   "metadata": {},
   "outputs": [],
   "source": []
  },
  {
   "cell_type": "code",
   "execution_count": null,
   "id": "0a2b8a01",
   "metadata": {},
   "outputs": [],
   "source": [
    "messages = [\n",
    "    {\n",
    "        \"role\": \"system\",\n",
    "        \"content\": \"\"\"너는 사내 전용 챗봇이야.\n",
    "잡담은 그냥 첨부된 문서를 무시하고 답변하고, 회사와 관련된 질문은 첨부된 문서를 참고해서 답변해줘. 모르는 건 반드시 모른다고 말해야해.\n",
    "참고로, 유저의 대화 포맷은 아래와 같아.\n",
    "# 질문:\\n질문 내용\\n# 첨부된 문서:\\n첨부된 문서 내용\"\"\",\n",
    "    }\n",
    "]"
   ]
  },
  {
   "cell_type": "code",
   "execution_count": null,
   "id": "654fe70f",
   "metadata": {},
   "outputs": [],
   "source": [
    "def chat_with_ollama(message):\n",
    "    model=os.getenv(\"ollama_model\")\n",
    "    url = os.getenv(\"ollama_url\") + \"/chat\"\n",
    "    \n",
    "    messages.append({\"role\": \"user\", \"content\": f\"\"\"# 질문:\\n{message}\\n# 첨부된 문서:\\n{data[0]}\"\"\"})\n",
    "    # messages.append({\"role\": \"user\", \"content\": message})\n",
    "    \n",
    "    payload = {\n",
    "        \"model\": model,\n",
    "        \"messages\": messages,\n",
    "        \"stream\": False,\n",
    "        \n",
    "    }\n",
    "    \n",
    "    response = requests.post(url, json=payload).json()[\"message\"][\"content\"]\n",
    "    messages.append({\"role\": \"assistant\", \"content\": response})\n",
    "    return response"
   ]
  },
  {
   "cell_type": "code",
   "execution_count": null,
   "id": "dac900e2",
   "metadata": {},
   "outputs": [],
   "source": [
    "response = chat_with_ollama(\"안녕?\")\n",
    "print(response)"
   ]
  },
  {
   "cell_type": "code",
   "execution_count": null,
   "id": "4a1ae582",
   "metadata": {},
   "outputs": [],
   "source": [
    "response = chat_with_ollama(\"1+1은?\")\n",
    "print(response)"
   ]
  },
  {
   "cell_type": "code",
   "execution_count": null,
   "id": "9124347d",
   "metadata": {},
   "outputs": [],
   "source": [
    "response = chat_with_ollama(\"우리 회사는 뭐하는 회사야?\")\n",
    "print(response)"
   ]
  },
  {
   "cell_type": "code",
   "execution_count": null,
   "id": "edf0c06a",
   "metadata": {},
   "outputs": [],
   "source": []
  }
 ],
 "metadata": {
  "kernelspec": {
   "display_name": "FinalProjectAIWorkspace",
   "language": "python",
   "name": "python3"
  },
  "language_info": {
   "codemirror_mode": {
    "name": "ipython",
    "version": 3
   },
   "file_extension": ".py",
   "mimetype": "text/x-python",
   "name": "python",
   "nbconvert_exporter": "python",
   "pygments_lexer": "ipython3",
   "version": "3.13.7"
  }
 },
 "nbformat": 4,
 "nbformat_minor": 5
}
