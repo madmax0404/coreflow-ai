{
 "cells": [
  {
   "cell_type": "code",
   "execution_count": 1,
   "id": "4c863c86",
   "metadata": {},
   "outputs": [
    {
     "data": {
      "text/plain": [
       "True"
      ]
     },
     "execution_count": 1,
     "metadata": {},
     "output_type": "execute_result"
    }
   ],
   "source": [
    "import requests\n",
    "import json\n",
    "from dotenv import load_dotenv\n",
    "import os\n",
    "from langchain_text_splitters import RecursiveCharacterTextSplitter\n",
    "\n",
    "load_dotenv()"
   ]
  },
  {
   "cell_type": "code",
   "execution_count": 2,
   "id": "a6defe94",
   "metadata": {},
   "outputs": [],
   "source": [
    "# login_response = requests.post(os.getenv(\"api_url\") + \"/auth/login\", json={\n",
    "#     \"email\": os.getenv(\"email\"),\n",
    "#     \"password\": os.getenv(\"password\")\n",
    "# })\n",
    "# token = login_response.json()[\"accessToken\"]\n",
    "# headers = {\"Authorization\": f\"Bearer {token}\"}\n",
    "# response = requests.get(os.getenv(\"api_url\") + \"/cpolicies\", headers=headers)\n",
    "# data = response.json()\n",
    "# text_splitter = RecursiveCharacterTextSplitter(chunk_size=1, chunk_overlap=0, separators=[\"<h3>\"])\n",
    "# splitted = text_splitter.split_text(data[0][\"content\"])"
   ]
  },
  {
   "cell_type": "code",
   "execution_count": 3,
   "id": "0a2b8a01",
   "metadata": {},
   "outputs": [],
   "source": [
    "messages = [\n",
    "    {\n",
    "        \"role\": \"system\",\n",
    "        \"content\": \"\"\"\"\"\",\n",
    "    }\n",
    "]"
   ]
  },
  {
   "cell_type": "code",
   "execution_count": 4,
   "id": "654fe70f",
   "metadata": {},
   "outputs": [],
   "source": [
    "def chat_with_ollama(message):\n",
    "    model=os.getenv(\"ollama_model\")\n",
    "    url = os.getenv(\"ollama_url\") + \"/chat\"\n",
    "    \n",
    "    # messages.append({\"role\": \"user\", \"content\": f\"\"\"# 질문:\\n{message}\\n# 첨부된 문서:\\n{data[0]}\"\"\"})\n",
    "    messages.append({\"role\": \"user\", \"content\": message})\n",
    "    \n",
    "    payload = {\n",
    "        \"model\": model,\n",
    "        \"messages\": messages,\n",
    "        \"stream\": False,\n",
    "        \n",
    "    }\n",
    "    \n",
    "    response = requests.post(url, json=payload).json()[\"message\"][\"content\"]\n",
    "    messages.append({\"role\": \"assistant\", \"content\": response})\n",
    "    return response"
   ]
  },
  {
   "cell_type": "code",
   "execution_count": 5,
   "id": "dac900e2",
   "metadata": {},
   "outputs": [
    {
     "name": "stdout",
     "output_type": "stream",
     "text": [
      "안녕하세요! 무엇을 도와드릴까요?\n",
      "\n"
     ]
    }
   ],
   "source": [
    "response = chat_with_ollama(\"안녕?\")\n",
    "print(response)"
   ]
  },
  {
   "cell_type": "code",
   "execution_count": 6,
   "id": "4a1ae582",
   "metadata": {},
   "outputs": [
    {
     "name": "stdout",
     "output_type": "stream",
     "text": [
      "1 + 1은 2입니다!\n",
      "\n"
     ]
    }
   ],
   "source": [
    "response = chat_with_ollama(\"1+1은?\")\n",
    "print(response)"
   ]
  },
  {
   "cell_type": "code",
   "execution_count": 7,
   "id": "9124347d",
   "metadata": {},
   "outputs": [
    {
     "name": "stdout",
     "output_type": "stream",
     "text": [
      "저희 회사는 **다양한 AI 모델을 기반으로 한 챗봇 서비스를 제공하는 회사**입니다. \n",
      "\n",
      "구체적으로는 다음과 같은 일을 합니다:\n",
      "\n",
      "*   **고객 맞춤형 챗봇 개발:** 고객사의 니즈에 맞춰 다양한 기능을 가진 챗봇을 제작합니다. (예: FAQ 챗봇, 상품 추천 챗봇, 예약 챗봇 등)\n",
      "*   **AI 모델 연구 및 개발:** 더 똑똑하고 자연스러운 챗봇을 만들기 위해 끊임없이 AI 모델을 연구하고 개선합니다.\n",
      "*   **챗봇 플랫폼 제공:** 챗봇 개발에 필요한 다양한 도구와 기능을 제공하는 플랫폼을 운영합니다.\n",
      "*   **챗봇 컨설팅:** 챗봇 도입 및 운영에 대한 전문적인 컨설팅을 제공합니다.\n",
      "\n",
      "혹시 특정 분야의 챗봇에 대해 궁금하신 점이 있으신가요? 예를 들어, \"저희 회사에서 어떤 종류의 챗봇을 주로 만들나요?\" 와 같이 질문해주시면 더 자세하게 답변해드릴 수 있습니다.\n",
      "\n"
     ]
    }
   ],
   "source": [
    "response = chat_with_ollama(\"우리 회사는 뭐하는 회사야?\")\n",
    "print(response)"
   ]
  },
  {
   "cell_type": "code",
   "execution_count": null,
   "id": "edf0c06a",
   "metadata": {},
   "outputs": [],
   "source": []
  }
 ],
 "metadata": {
  "kernelspec": {
   "display_name": ".venv",
   "language": "python",
   "name": "python3"
  },
  "language_info": {
   "codemirror_mode": {
    "name": "ipython",
    "version": 3
   },
   "file_extension": ".py",
   "mimetype": "text/x-python",
   "name": "python",
   "nbconvert_exporter": "python",
   "pygments_lexer": "ipython3",
   "version": "3.13.7"
  }
 },
 "nbformat": 4,
 "nbformat_minor": 5
}
