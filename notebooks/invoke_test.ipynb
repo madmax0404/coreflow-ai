{
 "cells": [
  {
   "cell_type": "code",
   "execution_count": 1,
   "id": "d43a56b0",
   "metadata": {},
   "outputs": [],
   "source": [
    "from dotenv import load_dotenv\n",
    "import os\n",
    "import pandas as pd\n",
    "import numpy as np\n",
    "from langchain_chroma import Chroma\n",
    "import json\n",
    "import requests"
   ]
  },
  {
   "cell_type": "code",
   "execution_count": 2,
   "id": "14b5d003",
   "metadata": {},
   "outputs": [
    {
     "data": {
      "text/plain": [
       "True"
      ]
     },
     "execution_count": 2,
     "metadata": {},
     "output_type": "execute_result"
    }
   ],
   "source": [
    "load_dotenv()"
   ]
  },
  {
   "cell_type": "code",
   "execution_count": 3,
   "id": "4964a4a5",
   "metadata": {},
   "outputs": [],
   "source": [
    "headers = {\n",
    "    \"authorization\": os.getenv(\"myserver_api_key\")\n",
    "}\n",
    "\n",
    "embed_url = os.getenv(\"myserver_url\")+\":8000/embed\"\n",
    "rerank_url = os.getenv(\"myserver_url\")+\":8000/rerank\""
   ]
  },
  {
   "cell_type": "code",
   "execution_count": 4,
   "id": "df50d0a3",
   "metadata": {},
   "outputs": [],
   "source": [
    "class CustomEmbeddings:\n",
    "    def embed_documents(self, texts):\n",
    "        payload = {\n",
    "            \"texts\": texts,\n",
    "            \"is_query\": False\n",
    "        }\n",
    "        return requests.post(embed_url, json=payload, headers=headers).json()[\"embeddings\"]\n",
    "    \n",
    "    def embed_query(self, text):\n",
    "        payload = {\n",
    "            \"texts\": [text],\n",
    "            \"is_query\": True\n",
    "        }\n",
    "        return requests.post(embed_url, json=payload, headers=headers).json()[\"embeddings\"][0]"
   ]
  },
  {
   "cell_type": "code",
   "execution_count": 5,
   "id": "eabe41ff",
   "metadata": {},
   "outputs": [],
   "source": [
    "embeddings = CustomEmbeddings()"
   ]
  },
  {
   "cell_type": "code",
   "execution_count": 6,
   "id": "bcf58f8f",
   "metadata": {},
   "outputs": [],
   "source": [
    "vector_store = Chroma(\n",
    "    persist_directory=\"../chroma_db\",\n",
    "    embedding_function=embeddings\n",
    ")"
   ]
  },
  {
   "cell_type": "code",
   "execution_count": 7,
   "id": "8eaa39b8",
   "metadata": {},
   "outputs": [],
   "source": [
    "# mmr 기반\n",
    "retriever = vector_store.as_retriever(\n",
    "    search_type=\"mmr\",\n",
    "    search_kwargs={\"k\":10, \"fetch_k\":50}\n",
    ")"
   ]
  },
  {
   "cell_type": "code",
   "execution_count": 8,
   "id": "03a4fb0d",
   "metadata": {},
   "outputs": [],
   "source": [
    "query = \"휴가\""
   ]
  },
  {
   "cell_type": "code",
   "execution_count": 11,
   "id": "3fa75b9c",
   "metadata": {},
   "outputs": [],
   "source": [
    "docs = retriever.invoke(query)"
   ]
  },
  {
   "cell_type": "code",
   "execution_count": 12,
   "id": "6bf1b373",
   "metadata": {},
   "outputs": [
    {
     "data": {
      "text/plain": [
       "[Document(id='ad59eaa3-ec83-45d3-a9c6-c5edc5fca186', metadata={}, page_content='법정 휴가 규정'),\n",
       " Document(id='b4cefeb4-5de7-4b1c-af69-0288b7df75bf', metadata={}, page_content='CoreFlow는 근로자의 충분한 휴식을 보장하고 일과 삶의 균형을 지원하기 위해 근로기준법 및 관련 법규에 따른 휴가 제도를 운영한다'),\n",
       " Document(id='5108c9d4-89f2-4309-9328-8ec6793e2426', metadata={}, page_content='이는 부모, 배우자, 자녀 등 돌봄이 필요한 가족을 위해 사용하는 휴가로, 연간 최대 10일까지 하루 단위로 분할하여 사용할 수 있습니다'),\n",
       " Document(id='fbae571c-f7a1-4b74-b54c-54ea63f35ec2', metadata={}, page_content='정의 및 적용 범위: 재택근무는 부여받은 업무를 자택 등 지정된 장소에서 수행하는 근무 형태를 의미한다'),\n",
       " Document(id='2fd80cc1-91cf-41f2-a90c-c89bc3ce8956', metadata={}, page_content='사내 복지 시설: 사내 휴게실, 식당 등을 운영하여 편의를 제공하고, 필요에 따라 휴양 시설 등을 임차하여 직원들이 이용할 수 있도록 지원한다'),\n",
       " Document(id='8d3bc264-facb-4c6f-a09e-e427c4f1e1ce', metadata={}, page_content='5배, 휴일근로는 8시간 이내는 1'),\n",
       " Document(id='e463751c-39b8-4767-89b4-8aeadc68d527', metadata={}, page_content='조사 기간 중 피해자가 요청하는 경우, 근무 장소 변경, 유급 휴가 명령 등 피해자를 보호하기 위한 적절한 조치를 취할 수 있다'),\n",
       " Document(id='ab71e4fe-c9d9-4bc1-96f0-8a46110d5987', metadata={}, page_content='\"Work Together\"는 협업과 팀워크를 통해 시너지를 창출하고, 공동의 목표를 달성하겠다는 의지를 나타낸다'),\n",
       " Document(id='3e32c8fa-47a6-464c-b8a5-edf715b22e01', metadata={}, page_content='사직서 제출: 근로자는 퇴직 희망일 최소 30일 전에 사직서를 서면으로 제출하여 퇴직 의사를 명확히 해야 한다'),\n",
       " Document(id='43227870-5d52-46d4-a74a-1a59dcfcda71', metadata={}, page_content='근속상: 5년, 10년 등 장기간 근속하며 회사 발전에 공로가 큰 직원을 포상한다')]"
      ]
     },
     "execution_count": 12,
     "metadata": {},
     "output_type": "execute_result"
    }
   ],
   "source": [
    "docs"
   ]
  },
  {
   "cell_type": "code",
   "execution_count": null,
   "id": "03baa3e6",
   "metadata": {},
   "outputs": [],
   "source": [
    "for doc in docs:\n",
    "    print(doc.page_content)\n",
    "    break"
   ]
  },
  {
   "cell_type": "code",
   "execution_count": null,
   "id": "d91d9f0e",
   "metadata": {},
   "outputs": [],
   "source": [
    "parent_docs_df = pd.read_csv(\"../data/parent_split_docs_20250909.csv\")\n",
    "parent_docs_list = parent_docs_df[\"docs\"].tolist()\n",
    "len(parent_docs_list)"
   ]
  },
  {
   "cell_type": "code",
   "execution_count": null,
   "id": "72517bbc",
   "metadata": {},
   "outputs": [],
   "source": [
    "parent_docs_list[:5]"
   ]
  },
  {
   "cell_type": "code",
   "execution_count": null,
   "id": "a911c336",
   "metadata": {},
   "outputs": [],
   "source": [
    "def search_parent_docs(docs, parent_docs):\n",
    "    searched_docs = []\n",
    "    for doc in docs:\n",
    "        doc_content = doc.page_content\n",
    "        for parent_doc in parent_docs:\n",
    "            if doc_content in parent_doc:\n",
    "                searched_docs.append(parent_doc)\n",
    "    \n",
    "    return searched_docs"
   ]
  },
  {
   "cell_type": "code",
   "execution_count": null,
   "id": "234759ef",
   "metadata": {},
   "outputs": [],
   "source": [
    "searched_parent_docs = search_parent_docs(docs, parent_docs_list)\n",
    "searched_parent_docs_df = pd.DataFrame({\"docs\":searched_parent_docs})\n",
    "print(searched_parent_docs_df.shape)\n",
    "searched_parent_docs_df = searched_parent_docs_df.drop_duplicates()\n",
    "searched_parent_docs = searched_parent_docs_df[\"docs\"].tolist()\n",
    "len(searched_parent_docs)"
   ]
  },
  {
   "cell_type": "code",
   "execution_count": null,
   "id": "098a9607",
   "metadata": {},
   "outputs": [],
   "source": [
    "searched_parent_docs"
   ]
  },
  {
   "cell_type": "code",
   "execution_count": null,
   "id": "f4ff82b9",
   "metadata": {},
   "outputs": [],
   "source": [
    "response = requests.post(rerank_url, json={\"query\":query, \"documents\":searched_parent_docs}, headers=headers)\n",
    "response"
   ]
  },
  {
   "cell_type": "code",
   "execution_count": null,
   "id": "cec7f77d",
   "metadata": {},
   "outputs": [],
   "source": [
    "response.json()"
   ]
  },
  {
   "cell_type": "code",
   "execution_count": null,
   "id": "fa99ba7d",
   "metadata": {},
   "outputs": [],
   "source": [
    "best_results = []\n",
    "for result in response.json()[\"results\"][:5]:\n",
    "    best_results.append(result[\"text\"])\n",
    "print(len(best_results))"
   ]
  },
  {
   "cell_type": "code",
   "execution_count": null,
   "id": "01ae90e2",
   "metadata": {},
   "outputs": [],
   "source": [
    "def chat_with_ollama(message):\n",
    "    model=os.getenv(\"ollama_model\")\n",
    "    url = os.getenv(\"ollama_url\") + \"/chat\"\n",
    "    \n",
    "    messages = []\n",
    "    messages.append({\"role\": \"system\", \"content\": \"\"\"\n",
    "너의 이름은 CoreFlow AI 이고, 너의 역할은 회사 내부 규정에 대한 질문에 답변해 주는 거야. 사용자 프롬프트 포맷은 아래와 같아.\n",
    "\n",
    "# 질문:\n",
    "질문 내용\n",
    "# 첨부된 문서:\n",
    "문서 내용\n",
    "\n",
    "첨부된 문서를 활용해서 최대한 자세하게 대답해주되, 모르겠으면 솔직히 모르겠다고 대답해줘.\n",
    "\"\"\"})\n",
    "    messages.append({\"role\": \"user\", \"content\": f\"\"\"\n",
    "# 질문:\n",
    "{message}\n",
    "# 첨부된 문서:\n",
    "{best_results}\n",
    "\"\"\"})\n",
    "    # messages.append({\"role\": \"user\", \"content\": message})\n",
    "    \n",
    "    payload = {\n",
    "        \"model\": model,\n",
    "        \"messages\": messages,\n",
    "        \"stream\": False,\n",
    "        \"options\": {\n",
    "            \"num_ctx\": 128000\n",
    "        }\n",
    "    }\n",
    "    \n",
    "    response = requests.post(url, json=payload).json()[\"message\"][\"content\"]\n",
    "    messages.append({\"role\": \"assistant\", \"content\": response})\n",
    "    return response"
   ]
  },
  {
   "cell_type": "code",
   "execution_count": null,
   "id": "fb60d769",
   "metadata": {},
   "outputs": [],
   "source": [
    "model_response = chat_with_ollama(query)\n",
    "print(model_response)"
   ]
  }
 ],
 "metadata": {
  "kernelspec": {
   "display_name": ".venv",
   "language": "python",
   "name": "python3"
  },
  "language_info": {
   "codemirror_mode": {
    "name": "ipython",
    "version": 3
   },
   "file_extension": ".py",
   "mimetype": "text/x-python",
   "name": "python",
   "nbconvert_exporter": "python",
   "pygments_lexer": "ipython3",
   "version": "3.13.7"
  }
 },
 "nbformat": 4,
 "nbformat_minor": 5
}
