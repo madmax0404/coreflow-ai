{
 "cells": [
  {
   "cell_type": "code",
   "execution_count": 1,
   "id": "d43a56b0",
   "metadata": {},
   "outputs": [],
   "source": [
    "import requests\n",
    "from dotenv import load_dotenv\n",
    "import os\n",
    "import numpy as np\n",
    "from langchain_chroma import Chroma\n",
    "import json\n",
    "import re\n",
    "from bs4 import BeautifulSoup\n",
    "import pandas as pd\n",
    "from math import ceil\n",
    "from tqdm import tqdm"
   ]
  },
  {
   "cell_type": "code",
   "execution_count": 2,
   "id": "14b5d003",
   "metadata": {},
   "outputs": [
    {
     "data": {
      "text/plain": [
       "True"
      ]
     },
     "execution_count": 2,
     "metadata": {},
     "output_type": "execute_result"
    }
   ],
   "source": [
    "load_dotenv()"
   ]
  },
  {
   "cell_type": "code",
   "execution_count": 3,
   "id": "13a36d07",
   "metadata": {},
   "outputs": [
    {
     "name": "stdout",
     "output_type": "stream",
     "text": [
      "(299, 1)\n"
     ]
    },
    {
     "data": {
      "text/html": [
       "<div>\n",
       "<style scoped>\n",
       "    .dataframe tbody tr th:only-of-type {\n",
       "        vertical-align: middle;\n",
       "    }\n",
       "\n",
       "    .dataframe tbody tr th {\n",
       "        vertical-align: top;\n",
       "    }\n",
       "\n",
       "    .dataframe thead th {\n",
       "        text-align: right;\n",
       "    }\n",
       "</style>\n",
       "<table border=\"1\" class=\"dataframe\">\n",
       "  <thead>\n",
       "    <tr style=\"text-align: right;\">\n",
       "      <th></th>\n",
       "      <th>docs</th>\n",
       "    </tr>\n",
       "  </thead>\n",
       "  <tbody>\n",
       "    <tr>\n",
       "      <th>0</th>\n",
       "      <td>보고서 목적 및 적용 범위</td>\n",
       "    </tr>\n",
       "    <tr>\n",
       "      <th>1</th>\n",
       "      <td>본 보고서는 가상의 웹 애플리케이션 개발 회사인 주식회사 CoreFlow의 체계적이...</td>\n",
       "    </tr>\n",
       "    <tr>\n",
       "      <th>2</th>\n",
       "      <td>이 규정집은 단순히 법적 의무를 명시하는 서류철을 넘어, CoreFlow의 모든 구...</td>\n",
       "    </tr>\n",
       "    <tr>\n",
       "      <th>3</th>\n",
       "      <td>사내 규정은 명확한 규칙과 절차를 확립함으로써 회사 운영의 일관성을 유지하고, 불필...</td>\n",
       "    </tr>\n",
       "    <tr>\n",
       "      <th>4</th>\n",
       "      <td>특히 IT 산업의 급변하는 환경 속에서, 본 규정집은 인재 관리, 지식재산권 보호,...</td>\n",
       "    </tr>\n",
       "  </tbody>\n",
       "</table>\n",
       "</div>"
      ],
      "text/plain": [
       "                                                docs\n",
       "0                                     보고서 목적 및 적용 범위\n",
       "1  본 보고서는 가상의 웹 애플리케이션 개발 회사인 주식회사 CoreFlow의 체계적이...\n",
       "2  이 규정집은 단순히 법적 의무를 명시하는 서류철을 넘어, CoreFlow의 모든 구...\n",
       "3  사내 규정은 명확한 규칙과 절차를 확립함으로써 회사 운영의 일관성을 유지하고, 불필...\n",
       "4  특히 IT 산업의 급변하는 환경 속에서, 본 규정집은 인재 관리, 지식재산권 보호,..."
      ]
     },
     "execution_count": 3,
     "metadata": {},
     "output_type": "execute_result"
    }
   ],
   "source": [
    "split_docs_df = pd.read_csv('../data/split_docs_20250909.csv')\n",
    "print(split_docs_df.shape)\n",
    "split_docs_df.head()"
   ]
  },
  {
   "cell_type": "code",
   "execution_count": 4,
   "id": "7177b0ec",
   "metadata": {},
   "outputs": [
    {
     "data": {
      "text/plain": [
       "['보고서 목적 및 적용 범위',\n",
       " '본 보고서는 가상의 웹 애플리케이션 개발 회사인 주식회사 CoreFlow의 체계적이고 투명한 운영을 위한 사내 규정을 총망라하여 제공한다',\n",
       " '이 규정집은 단순히 법적 의무를 명시하는 서류철을 넘어, CoreFlow의 모든 구성원들이 회사의 비전과 가치에 따라 행동하고, 법률 및 윤리적 기준을 준수하며, 궁극적으로 회사의 지속 가능한 성장을 도모할 수 있도록 돕는 실무적 가이드라인 역할을 한다',\n",
       " '사내 규정은 명확한 규칙과 절차를 확립함으로써 회사 운영의 일관성을 유지하고, 불필요한 혼란과 갈등을 줄이는 데 필수적이다',\n",
       " '특히 IT 산업의 급변하는 환경 속에서, 본 규정집은 인재 관리, 지식재산권 보호, 정보 보안 등 핵심적인 영역에서 발생하는 다양한 문제를 사전에 예방하고 해결하는 데 중요한 역할을 수행할 것이다']"
      ]
     },
     "execution_count": 4,
     "metadata": {},
     "output_type": "execute_result"
    }
   ],
   "source": [
    "texts_list = split_docs_df[\"docs\"].tolist()\n",
    "texts_list[:5]"
   ]
  },
  {
   "cell_type": "code",
   "execution_count": 5,
   "id": "4964a4a5",
   "metadata": {},
   "outputs": [],
   "source": [
    "headers = {\n",
    "    \"authorization\": os.getenv(\"myserver_api_key\")\n",
    "}\n",
    "\n",
    "embed_url = os.getenv(\"myserver_url\")+\":8000/embed\"\n",
    "rerank_url = os.getenv(\"myserver_url\")+\":8000/rerank\""
   ]
  },
  {
   "cell_type": "code",
   "execution_count": 6,
   "id": "df50d0a3",
   "metadata": {},
   "outputs": [],
   "source": [
    "class CustomEmbeddings:\n",
    "    def embed_documents(self, texts):\n",
    "        payload = {\n",
    "            \"texts\": texts,\n",
    "            \"is_query\": False\n",
    "        }\n",
    "        return requests.post(embed_url, json=payload, headers=headers).json()[\"embeddings\"]\n",
    "    \n",
    "    def embed_query(self, text):\n",
    "        payload = {\n",
    "            \"texts\": [text],\n",
    "            \"is_query\": True\n",
    "        }\n",
    "        return requests.post(embed_url, json=payload, headers=headers).json()[\"embeddings\"][0]"
   ]
  },
  {
   "cell_type": "code",
   "execution_count": 7,
   "id": "eabe41ff",
   "metadata": {},
   "outputs": [],
   "source": [
    "embeddings = CustomEmbeddings()"
   ]
  },
  {
   "cell_type": "code",
   "execution_count": 8,
   "id": "05de1da2",
   "metadata": {},
   "outputs": [],
   "source": [
    "def batched(iterable, n):\n",
    "    for i in range(0, len(iterable), n):\n",
    "        yield iterable[i:i+n]"
   ]
  },
  {
   "cell_type": "code",
   "execution_count": 9,
   "id": "e396a804",
   "metadata": {},
   "outputs": [
    {
     "name": "stderr",
     "output_type": "stream",
     "text": [
      "19it [01:58,  6.24s/it]\n"
     ]
    }
   ],
   "source": [
    "for chunk in tqdm(batched(texts_list, 16)):  # 32~128 사이로 맞춰봐\n",
    "    vector_store = Chroma.from_texts(\n",
    "        texts=chunk, embedding=embeddings, persist_directory=\"../chroma_db\"\n",
    "    )"
   ]
  },
  {
   "cell_type": "code",
   "execution_count": null,
   "id": "7c372c1f",
   "metadata": {},
   "outputs": [],
   "source": []
  }
 ],
 "metadata": {
  "kernelspec": {
   "display_name": "FinalProjectAIWorkspace",
   "language": "python",
   "name": "python3"
  },
  "language_info": {
   "codemirror_mode": {
    "name": "ipython",
    "version": 3
   },
   "file_extension": ".py",
   "mimetype": "text/x-python",
   "name": "python",
   "nbconvert_exporter": "python",
   "pygments_lexer": "ipython3",
   "version": "3.13.7"
  }
 },
 "nbformat": 4,
 "nbformat_minor": 5
}
