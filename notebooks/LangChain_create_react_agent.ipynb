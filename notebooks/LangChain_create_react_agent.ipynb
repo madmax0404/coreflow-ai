{
 "cells": [
  {
   "cell_type": "code",
   "execution_count": 8,
   "id": "c6d75414",
   "metadata": {},
   "outputs": [],
   "source": [
    "import os\n",
    "from dotenv import load_dotenv\n",
    "load_dotenv()\n",
    "from langchain.agents.react.agent import create_react_agent\n",
    "from langchain_openai import ChatOpenAI\n",
    "from langchain import hub\n",
    "from langchain_core.tools import tool\n",
    "from langchain.agents import AgentExecutor"
   ]
  },
  {
   "cell_type": "code",
   "execution_count": 2,
   "id": "1b1f1162",
   "metadata": {},
   "outputs": [],
   "source": [
    "ollama_url = os.getenv(\"ollama_url\")\n",
    "ollama_model = os.getenv(\"ollama_model\")"
   ]
  },
  {
   "cell_type": "code",
   "execution_count": 3,
   "id": "740d8009",
   "metadata": {},
   "outputs": [],
   "source": [
    "llm = ChatOpenAI(\n",
    "    model=ollama_model,\n",
    "    base_url=ollama_url+\"v1\",\n",
    "    api_key=\"ollama\",\n",
    "    temperature=0.2,\n",
    ")"
   ]
  },
  {
   "cell_type": "code",
   "execution_count": 4,
   "id": "92af0e4a",
   "metadata": {},
   "outputs": [],
   "source": [
    "@tool\n",
    "def ping() -> str:\n",
    "    \"\"\"Testing tool.\"\"\"\n",
    "    return \"pong\""
   ]
  },
  {
   "cell_type": "code",
   "execution_count": 5,
   "id": "662a9528",
   "metadata": {},
   "outputs": [],
   "source": [
    "prompt = hub.pull(\"hwchase17/react\")"
   ]
  },
  {
   "cell_type": "code",
   "execution_count": 6,
   "id": "ed2a1d81",
   "metadata": {},
   "outputs": [],
   "source": [
    "agent = create_react_agent(llm, [ping], prompt=prompt)"
   ]
  },
  {
   "cell_type": "code",
   "execution_count": 10,
   "id": "662f3487",
   "metadata": {},
   "outputs": [],
   "source": [
    "agent_executor = AgentExecutor(agent=agent, tools=[ping], verbose=True)"
   ]
  },
  {
   "cell_type": "code",
   "execution_count": 11,
   "id": "d0f7e431",
   "metadata": {},
   "outputs": [
    {
     "name": "stdout",
     "output_type": "stream",
     "text": [
      "\n",
      "\n",
      "\u001b[1m> Entering new AgentExecutor chain...\u001b[0m\n",
      "\u001b[32;1m\u001b[1;3mI should start by saying hi, and then check if I can ping google.\n",
      "Action: ping\n",
      "Action Input: google.com\u001b[0m\u001b[36;1m\u001b[1;3mpong\u001b[0m\u001b[32;1m\u001b[1;3mI can ping google.com successfully.\n",
      "Final Answer: Hi! I can ping google.com.\u001b[0m\n",
      "\n",
      "\u001b[1m> Finished chain.\u001b[0m\n",
      "{'input': 'Say hi then use the ping tool if needed.', 'output': 'Hi! I can ping google.com.'}\n"
     ]
    }
   ],
   "source": [
    "res = agent_executor.invoke({\"input\": \"Say hi then use the ping tool if needed.\"})\n",
    "print(res)"
   ]
  },
  {
   "cell_type": "code",
   "execution_count": null,
   "id": "289aed3d",
   "metadata": {},
   "outputs": [],
   "source": []
  }
 ],
 "metadata": {
  "kernelspec": {
   "display_name": "FinalProjectAIWorkspace",
   "language": "python",
   "name": "python3"
  },
  "language_info": {
   "codemirror_mode": {
    "name": "ipython",
    "version": 3
   },
   "file_extension": ".py",
   "mimetype": "text/x-python",
   "name": "python",
   "nbconvert_exporter": "python",
   "pygments_lexer": "ipython3",
   "version": "3.13.7"
  }
 },
 "nbformat": 4,
 "nbformat_minor": 5
}
