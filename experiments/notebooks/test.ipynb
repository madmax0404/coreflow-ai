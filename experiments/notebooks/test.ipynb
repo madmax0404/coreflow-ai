{
 "cells": [
  {
   "cell_type": "code",
   "execution_count": null,
   "id": "b3d44f86",
   "metadata": {},
   "outputs": [],
   "source": [
    "import requests\n",
    "import json\n",
    "from dotenv import load_dotenv\n",
    "import os\n",
    "load_dotenv()"
   ]
  },
  {
   "cell_type": "code",
   "execution_count": null,
   "id": "1cbea748",
   "metadata": {},
   "outputs": [],
   "source": [
    "login_response = requests.post(os.getenv(\"api_url\") + \"/auth/login\", json={\n",
    "    \"email\": os.getenv(\"email\"),\n",
    "    \"password\": os.getenv(\"password\")\n",
    "})"
   ]
  },
  {
   "cell_type": "code",
   "execution_count": null,
   "id": "c8f59ac0",
   "metadata": {},
   "outputs": [],
   "source": [
    "token = login_response.json()[\"accessToken\"]"
   ]
  },
  {
   "cell_type": "code",
   "execution_count": null,
   "id": "1dde26ab",
   "metadata": {},
   "outputs": [],
   "source": [
    "headers = {\"Authorization\": f\"Bearer {token}\"}\n",
    "response = requests.get(os.getenv(\"api_url\") + \"/cpolicies\", headers=headers)\n",
    "response"
   ]
  },
  {
   "cell_type": "code",
   "execution_count": null,
   "id": "f7264fab",
   "metadata": {},
   "outputs": [],
   "source": [
    "data = response.json()\n",
    "data"
   ]
  },
  {
   "cell_type": "code",
   "execution_count": null,
   "id": "8c26b2b5",
   "metadata": {},
   "outputs": [],
   "source": [
    "type(data)"
   ]
  },
  {
   "cell_type": "code",
   "execution_count": null,
   "id": "1004bbf4",
   "metadata": {},
   "outputs": [],
   "source": [
    "len(data)"
   ]
  },
  {
   "cell_type": "code",
   "execution_count": null,
   "id": "7e5b13b9",
   "metadata": {},
   "outputs": [],
   "source": [
    "from langchain_text_splitters import RecursiveCharacterTextSplitter\n",
    "text_splitter = RecursiveCharacterTextSplitter(chunk_size=1, chunk_overlap=0, separators=[\"<h3>\"])\n",
    "splitted = text_splitter.split_text(data[0][\"content\"])"
   ]
  },
  {
   "cell_type": "code",
   "execution_count": null,
   "id": "47c1d150",
   "metadata": {},
   "outputs": [],
   "source": [
    "splitted"
   ]
  },
  {
   "cell_type": "code",
   "execution_count": null,
   "id": "6cd332b5",
   "metadata": {},
   "outputs": [],
   "source": [
    "len(splitted)"
   ]
  },
  {
   "cell_type": "code",
   "execution_count": null,
   "id": "d755c58a",
   "metadata": {},
   "outputs": [],
   "source": [
    "type(splitted[0])"
   ]
  },
  {
   "cell_type": "code",
   "execution_count": null,
   "id": "758eeda8",
   "metadata": {},
   "outputs": [],
   "source": [
    "messages = [\n",
    "    {\n",
    "        \"role\": \"system\",\n",
    "        \"content\": \"\"\"You are an assistant for question-answering tasks.\n",
    "Use the following retrieved context to answer the question.\n",
    "If you don't know the answer, just say you don't know.\n",
    "Answer in Korean.\"\"\",\n",
    "    }\n",
    "]"
   ]
  },
  {
   "cell_type": "code",
   "execution_count": null,
   "id": "b3738bd8",
   "metadata": {},
   "outputs": [],
   "source": [
    "def chat_with_ollama(message, model=os.getenv(\"ollama_model\")):\n",
    "    url = os.getenv(\"ollama_url\") + \"/chat\"\n",
    "    \n",
    "    messages.append({\"role\": \"user\", \"content\": message})\n",
    "    \n",
    "    payload = {\n",
    "        \"model\": model,\n",
    "        \"messages\": messages,\n",
    "        \"stream\": False,\n",
    "    }\n",
    "    \n",
    "    response = requests.post(url, json=payload).json()[\"message\"][\"content\"]\n",
    "    messages.append({\"role\": \"assistant\", \"content\": response})\n",
    "    return response"
   ]
  },
  {
   "cell_type": "code",
   "execution_count": null,
   "id": "67651c3d",
   "metadata": {},
   "outputs": [],
   "source": [
    "response = chat_with_ollama(\"안녕?\")\n",
    "print(response)"
   ]
  },
  {
   "cell_type": "code",
   "execution_count": null,
   "id": "b3701649",
   "metadata": {},
   "outputs": [],
   "source": [
    "response = chat_with_ollama(\"1+1은?\")\n",
    "print(response)"
   ]
  },
  {
   "cell_type": "code",
   "execution_count": null,
   "id": "c0bbba25",
   "metadata": {},
   "outputs": [],
   "source": [
    "response = chat_with_ollama(\"정답이 뭐라구?\")\n",
    "print(response)"
   ]
  }
 ],
 "metadata": {
  "kernelspec": {
   "display_name": "CoreFlowAIWorkspace",
   "language": "python",
   "name": "python3"
  },
  "language_info": {
   "codemirror_mode": {
    "name": "ipython",
    "version": 3
   },
   "file_extension": ".py",
   "mimetype": "text/x-python",
   "name": "python",
   "nbconvert_exporter": "python",
   "pygments_lexer": "ipython3",
   "version": "3.13.7"
  }
 },
 "nbformat": 4,
 "nbformat_minor": 5
}
