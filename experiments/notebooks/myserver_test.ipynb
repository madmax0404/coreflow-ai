{
 "cells": [
  {
   "cell_type": "code",
   "execution_count": 1,
   "id": "d43a56b0",
   "metadata": {},
   "outputs": [],
   "source": [
    "import requests\n",
    "from dotenv import load_dotenv\n",
    "import os\n",
    "import numpy as np\n",
    "from langchain_chroma import Chroma"
   ]
  },
  {
   "cell_type": "code",
   "execution_count": 2,
   "id": "4964a4a5",
   "metadata": {},
   "outputs": [],
   "source": [
    "headers = {\n",
    "    \"authorization\": os.getenv(\"myserver_api_key\")\n",
    "}\n",
    "\n",
    "embed_url = os.getenv(\"myserver_url\")+\":8000/embed\"\n",
    "rerank_url = os.getenv(\"myserver_url\")+\":8000/rerank\""
   ]
  },
  {
   "cell_type": "code",
   "execution_count": 3,
   "id": "e136be2a",
   "metadata": {},
   "outputs": [
    {
     "data": {
      "text/plain": [
       "<Response [200]>"
      ]
     },
     "execution_count": 3,
     "metadata": {},
     "output_type": "execute_result"
    }
   ],
   "source": [
    "temp_txt_list = [\"test\", \"bitch\"]\n",
    "payload = {\n",
    "    \"texts\": temp_txt_list,\n",
    "    \"is_query\": False\n",
    "}\n",
    "response = requests.post(embed_url, json=payload, headers=headers)\n",
    "response"
   ]
  },
  {
   "cell_type": "code",
   "execution_count": 4,
   "id": "1e28a09e",
   "metadata": {},
   "outputs": [
    {
     "data": {
      "text/plain": [
       "(2, 2560)"
      ]
     },
     "execution_count": 4,
     "metadata": {},
     "output_type": "execute_result"
    }
   ],
   "source": [
    "embeddings_array = np.array(response.json()[\"embeddings\"])\n",
    "embeddings_array.shape"
   ]
  },
  {
   "cell_type": "code",
   "execution_count": 5,
   "id": "58f27d71",
   "metadata": {},
   "outputs": [
    {
     "data": {
      "text/plain": [
       "array([[-6.77108765e-05,  4.19921875e-02, -8.30078125e-03, ...,\n",
       "        -2.45361328e-02,  1.94091797e-02, -1.47094727e-02],\n",
       "       [-1.64031982e-04,  1.81884766e-02,  3.68652344e-02, ...,\n",
       "         9.39941406e-03,  5.72204590e-04,  3.47900391e-03]],\n",
       "      shape=(2, 2560))"
      ]
     },
     "execution_count": 5,
     "metadata": {},
     "output_type": "execute_result"
    }
   ],
   "source": [
    "embeddings_array"
   ]
  },
  {
   "cell_type": "code",
   "execution_count": 6,
   "id": "df50d0a3",
   "metadata": {},
   "outputs": [],
   "source": [
    "class CustomEmbedding:\n",
    "    def embed_documents(self, texts):\n",
    "        payload = {\n",
    "            \"texts\": texts,\n",
    "            \"is_query\": False\n",
    "        }\n",
    "        return requests.post(embed_url, json=payload, headers=headers).json()[\"embeddings\"]\n",
    "    \n",
    "    def embed_query(self, text):\n",
    "        payload = {\n",
    "            \"texts\": [text],\n",
    "            \"is_query\": True\n",
    "        }\n",
    "        return requests.post(embed_url, json=payload, headers=headers).json()[\"embeddings\"][0]"
   ]
  },
  {
   "cell_type": "code",
   "execution_count": 7,
   "id": "eabe41ff",
   "metadata": {},
   "outputs": [],
   "source": [
    "embeddings = CustomEmbedding()"
   ]
  },
  {
   "cell_type": "code",
   "execution_count": 8,
   "id": "d404dcaf",
   "metadata": {},
   "outputs": [],
   "source": [
    "vector_store = Chroma.from_texts(\n",
    "    texts=temp_txt_list, embedding=embeddings, persist_directory=\"../chroma_db\"\n",
    ")"
   ]
  },
  {
   "cell_type": "code",
   "execution_count": 9,
   "id": "598dd3e6",
   "metadata": {},
   "outputs": [],
   "source": [
    "# mmr 기반\n",
    "retriever = vector_store.as_retriever(\n",
    "    search_type=\"mmr\",\n",
    "    search_kwargs={\"k\":5, \"fetch_k\":50}\n",
    ")"
   ]
  },
  {
   "cell_type": "code",
   "execution_count": 10,
   "id": "1174f3af",
   "metadata": {},
   "outputs": [
    {
     "name": "stderr",
     "output_type": "stream",
     "text": [
      "C:\\Users\\user1\\AppData\\Local\\Temp\\ipykernel_10732\\3866927720.py:1: LangChainDeprecationWarning: The method `BaseRetriever.get_relevant_documents` was deprecated in langchain-core 0.1.46 and will be removed in 1.0. Use :meth:`~invoke` instead.\n",
      "  docs = retriever.get_relevant_documents(\"JVM에 대해 알려줘\")\n"
     ]
    },
    {
     "data": {
      "text/plain": [
       "[Document(id='98f4ce62-07ba-4bcc-b982-b926e4c3f0c6', metadata={}, page_content='test'),\n",
       " Document(id='57b948c6-3938-4e9e-89c0-746000a26bbe', metadata={}, page_content='bitch')]"
      ]
     },
     "execution_count": 10,
     "metadata": {},
     "output_type": "execute_result"
    }
   ],
   "source": [
    "docs = retriever.get_relevant_documents(\"JVM에 대해 알려줘\")\n",
    "docs"
   ]
  },
  {
   "cell_type": "code",
   "execution_count": 13,
   "id": "804963fd",
   "metadata": {},
   "outputs": [],
   "source": [
    "vector_store = Chroma(\n",
    "    persist_directory=\"../chroma_db\",\n",
    "    embedding_function=embeddings\n",
    ")"
   ]
  },
  {
   "cell_type": "code",
   "execution_count": 14,
   "id": "8eaa39b8",
   "metadata": {},
   "outputs": [],
   "source": [
    "# mmr 기반\n",
    "retriever = vector_store.as_retriever(\n",
    "    search_type=\"mmr\",\n",
    "    search_kwargs={\"k\":5, \"fetch_k\":50}\n",
    ")"
   ]
  },
  {
   "cell_type": "code",
   "execution_count": 15,
   "id": "3fa75b9c",
   "metadata": {},
   "outputs": [
    {
     "data": {
      "text/plain": [
       "[Document(id='98f4ce62-07ba-4bcc-b982-b926e4c3f0c6', metadata={}, page_content='test'),\n",
       " Document(id='57b948c6-3938-4e9e-89c0-746000a26bbe', metadata={}, page_content='bitch')]"
      ]
     },
     "execution_count": 15,
     "metadata": {},
     "output_type": "execute_result"
    }
   ],
   "source": [
    "docs = retriever.get_relevant_documents(\"JVM에 대해 알려줘\")\n",
    "docs"
   ]
  },
  {
   "cell_type": "code",
   "execution_count": null,
   "id": "430e2731",
   "metadata": {},
   "outputs": [],
   "source": []
  },
  {
   "cell_type": "code",
   "execution_count": null,
   "id": "798a6647",
   "metadata": {},
   "outputs": [],
   "source": []
  },
  {
   "cell_type": "code",
   "execution_count": null,
   "id": "26754964",
   "metadata": {},
   "outputs": [],
   "source": []
  },
  {
   "cell_type": "code",
   "execution_count": null,
   "id": "282fa619",
   "metadata": {},
   "outputs": [],
   "source": []
  },
  {
   "cell_type": "code",
   "execution_count": null,
   "id": "03baa3e6",
   "metadata": {},
   "outputs": [],
   "source": []
  },
  {
   "cell_type": "code",
   "execution_count": null,
   "id": "72517bbc",
   "metadata": {},
   "outputs": [],
   "source": []
  },
  {
   "cell_type": "code",
   "execution_count": null,
   "id": "a911c336",
   "metadata": {},
   "outputs": [],
   "source": []
  },
  {
   "cell_type": "code",
   "execution_count": null,
   "id": "234759ef",
   "metadata": {},
   "outputs": [],
   "source": []
  },
  {
   "cell_type": "code",
   "execution_count": null,
   "id": "7c372c1f",
   "metadata": {},
   "outputs": [],
   "source": []
  }
 ],
 "metadata": {
  "kernelspec": {
   "display_name": "FinalProjectAIWorkspace",
   "language": "python",
   "name": "python3"
  },
  "language_info": {
   "codemirror_mode": {
    "name": "ipython",
    "version": 3
   },
   "file_extension": ".py",
   "mimetype": "text/x-python",
   "name": "python",
   "nbconvert_exporter": "python",
   "pygments_lexer": "ipython3",
   "version": "3.13.7"
  }
 },
 "nbformat": 4,
 "nbformat_minor": 5
}
