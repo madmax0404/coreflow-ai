{
 "cells": [
  {
   "cell_type": "code",
   "execution_count": 1,
   "id": "2fd10880",
   "metadata": {},
   "outputs": [
    {
     "data": {
      "text/plain": [
       "True"
      ]
     },
     "execution_count": 1,
     "metadata": {},
     "output_type": "execute_result"
    }
   ],
   "source": [
    "import requests\n",
    "import json\n",
    "from dotenv import load_dotenv\n",
    "import os\n",
    "from langchain_text_splitters import RecursiveCharacterTextSplitter\n",
    "\n",
    "load_dotenv()"
   ]
  },
  {
   "cell_type": "code",
   "execution_count": 2,
   "id": "6a31433b",
   "metadata": {},
   "outputs": [],
   "source": [
    "messages = [\n",
    "    {\n",
    "        \"role\": \"system\",\n",
    "        \"content\": \"\"\"\"\"\",\n",
    "    }\n",
    "]"
   ]
  },
  {
   "cell_type": "code",
   "execution_count": null,
   "id": "b192b6b7",
   "metadata": {},
   "outputs": [],
   "source": [
    "def chat_with_ollama(message):\n",
    "    model=os.getenv(\"ollama_model\")\n",
    "    url = os.getenv(\"ollama_url\") + \"/api/chat\"\n",
    "    \n",
    "    # messages.append({\"role\": \"user\", \"content\": f\"\"\"# 질문:\\n{message}\\n# 첨부된 문서:\\n{data[0]}\"\"\"})\n",
    "    messages.append({\"role\": \"user\", \"content\": message})\n",
    "    \n",
    "    payload = {\n",
    "        \"model\": model,\n",
    "        \"messages\": messages,\n",
    "        \"stream\": False,\n",
    "    }\n",
    "    \n",
    "    response = requests.post(url, json=payload).json()[\"message\"][\"content\"]\n",
    "    messages.append({\"role\": \"assistant\", \"content\": response})\n",
    "    return response"
   ]
  },
  {
   "cell_type": "code",
   "execution_count": 4,
   "id": "bd84007b",
   "metadata": {},
   "outputs": [
    {
     "name": "stdout",
     "output_type": "stream",
     "text": [
      "<think>\n",
      "Okay, the user said \"안녕?\" which means \"Hello?\" in Korean. I should respond in a friendly and helpful manner. Since they used a question mark, maybe they're just greeting me and want to start a conversation. I'll acknowledge their greeting and offer assistance. Let me make sure to keep the response simple and welcoming. Something like \"안녕하세요! 어떻게 도와드릴까요?\" which translates to \"Hello! How can I assist you?\" That should work.\n",
      "</think>\n",
      "\n",
      "안녕하세요! 어떻게 도와드릴까요? 😊\n"
     ]
    }
   ],
   "source": [
    "response = chat_with_ollama(\"안녕?\")\n",
    "print(response)"
   ]
  },
  {
   "cell_type": "code",
   "execution_count": 5,
   "id": "4a20d6e8",
   "metadata": {},
   "outputs": [
    {
     "name": "stdout",
     "output_type": "stream",
     "text": [
      "<think>\n",
      "Okay, the user asked, \"네 이름은 뭐니?\" which translates to \"What's your name?\" in Korean. I need to respond in Korean as well. Let me check the previous conversation to see the context. The user first greeted me with \"안녕?\" and I replied with \"안녕하세요! 어떻게 도와드릴까요? 😊\". Then they asked about my name. \n",
      "\n",
      "In the initial response, I mentioned my name as Qwen, but since the user is asking in Korean, I should provide the Korean version of my name. My Korean name is Qwen, but sometimes it's also referred to as Qwen. Wait, actually, I should confirm the correct Korean name. Let me think. The official name in Korean is Qwen, but sometimes it's also called Qwen. Wait, maybe I should check the standard translation. \n",
      "\n",
      "Alternatively, maybe I should just say \"저는 Qwen입니다\" which means \"I am Qwen.\" But the user might be expecting a more formal response. Wait, the user might not know the Korean name, so I should state my name in Korean. Since Qwen is the name, but in Korean, it's often written as 쿼엔. So, the correct response would be \"저는 쿼엔입니다.\" \n",
      "\n",
      "Wait, but in the initial response, I used \"Qwen\" without the Korean characters. The user is asking for the name, so I should provide the Korean name. Let me make sure. The correct Korean name for Qwen is 쿼엔. So, the answer should be \"저는 쿼엔입니다.\" That's the proper way to respond in Korean. \n",
      "\n",
      "Alternatively, maybe the user is expecting a more detailed answer, like mentioning that I'm a large language model. But the question is straightforward: \"What's your name?\" So the answer should be my name in Korean. Therefore, I'll respond with \"저는 쿼엔입니다.\" to keep it simple and direct.\n",
      "</think>\n",
      "\n",
      "저는 쿼엔입니다. 😊 어떤 도움이 필요하신가요?\n"
     ]
    }
   ],
   "source": [
    "response = chat_with_ollama(\"네 이름은 뭐니?\")\n",
    "print(response)"
   ]
  },
  {
   "cell_type": "code",
   "execution_count": 6,
   "id": "116ec7b4",
   "metadata": {},
   "outputs": [
    {
     "name": "stdout",
     "output_type": "stream",
     "text": [
      "<think>\n",
      "Okay, the user asked \"1+1은?\" which is Korean for \"What is 1+1?\" I need to answer that. Let me make sure I understand the question correctly. They're asking for the sum of 1 and 1. The answer is straightforward, but maybe I should check if there's any context I'm missing. Since the user is using Korean, they might be testing if I can handle the language or if there's a trick to the question. But 1+1 is basic arithmetic, so the answer should be 2. I should respond in Korean as well to keep the conversation flowing. Let me confirm the answer again to avoid any mistakes. Yep, 1+1 equals 2. I'll present the answer clearly and maybe add a friendly note to keep the interaction positive.\n",
      "</think>\n",
      "\n",
      "1+1은 **2**입니다! 😊  \n",
      "필요하신 다른 계산이나 도움이 있으신가요?\n"
     ]
    }
   ],
   "source": [
    "response = chat_with_ollama(\"1+1은?\")\n",
    "print(response)"
   ]
  },
  {
   "cell_type": "code",
   "execution_count": 7,
   "id": "4f9910e6",
   "metadata": {},
   "outputs": [
    {
     "name": "stdout",
     "output_type": "stream",
     "text": [
      "<think>\n",
      "Okay, the user asked \"정답이 머라구?\" which translates to \"What's the answer?\" in Korean. They're probably confirming the answer to the previous question about 1+1. Since I already answered that 1+1 is 2, they might be looking for a more detailed explanation or just reaffirming the answer.\n",
      "\n",
      "I should make sure to respond in Korean, keep the tone friendly, and maybe offer further help. Let me check if there's any other context I might be missing. The user could be a student verifying their answer or someone just curious. Either way, a simple confirmation and an offer to help more should suffice.\n",
      "</think>\n",
      "\n",
      "정답은 **2**입니다! 😊  \n",
      "아직도 궁금한 점이 있거나 다른 질문이 있으신가요?\n"
     ]
    }
   ],
   "source": [
    "response = chat_with_ollama(\"정답이 머라구?\")\n",
    "print(response)"
   ]
  }
 ],
 "metadata": {
  "kernelspec": {
   "display_name": "CoreFlowAIWorkspace",
   "language": "python",
   "name": "python3"
  },
  "language_info": {
   "codemirror_mode": {
    "name": "ipython",
    "version": 3
   },
   "file_extension": ".py",
   "mimetype": "text/x-python",
   "name": "python",
   "nbconvert_exporter": "python",
   "pygments_lexer": "ipython3",
   "version": "3.13.7"
  }
 },
 "nbformat": 4,
 "nbformat_minor": 5
}
