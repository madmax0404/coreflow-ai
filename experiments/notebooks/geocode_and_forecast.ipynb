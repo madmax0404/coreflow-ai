{
 "cells": [
  {
   "cell_type": "code",
   "execution_count": 20,
   "id": "a08a6cf7",
   "metadata": {},
   "outputs": [],
   "source": [
    "import requests\n",
    "from dotenv import load_dotenv\n",
    "import os"
   ]
  },
  {
   "cell_type": "code",
   "execution_count": 21,
   "id": "37f454dd",
   "metadata": {},
   "outputs": [
    {
     "data": {
      "text/plain": [
       "True"
      ]
     },
     "execution_count": 21,
     "metadata": {},
     "output_type": "execute_result"
    }
   ],
   "source": [
    "load_dotenv()"
   ]
  },
  {
   "cell_type": "code",
   "execution_count": 22,
   "id": "4dc4645f",
   "metadata": {},
   "outputs": [],
   "source": [
    "url = os.getenv(\"geocode_url\")\n",
    "geocode_api_key = os.getenv(\"geocode_api_key\")\n",
    "forecast_api_url = os.getenv(\"forecast_api_url\")"
   ]
  },
  {
   "cell_type": "code",
   "execution_count": 8,
   "id": "fd75f294",
   "metadata": {},
   "outputs": [],
   "source": [
    "response = requests.get(url, params={\"key\":geocode_api_key, \"address\":\"서울\"})"
   ]
  },
  {
   "cell_type": "code",
   "execution_count": 14,
   "id": "47698ee8",
   "metadata": {},
   "outputs": [
    {
     "data": {
      "text/plain": [
       "{'address_components': [{'long_name': 'Seoul',\n",
       "   'short_name': 'Seoul',\n",
       "   'types': ['locality', 'political']},\n",
       "  {'long_name': 'Seoul',\n",
       "   'short_name': 'Seoul',\n",
       "   'types': ['administrative_area_level_1', 'political']},\n",
       "  {'long_name': 'South Korea',\n",
       "   'short_name': 'KR',\n",
       "   'types': ['country', 'political']}],\n",
       " 'formatted_address': 'Seoul, South Korea',\n",
       " 'geometry': {'bounds': {'northeast': {'lat': 37.7014549, 'lng': 127.1837949},\n",
       "   'southwest': {'lat': 37.4282973, 'lng': 126.7644837}},\n",
       "  'location': {'lat': 37.56521290000001, 'lng': 126.9773517},\n",
       "  'location_type': 'APPROXIMATE',\n",
       "  'viewport': {'northeast': {'lat': 37.7014549, 'lng': 127.1837949},\n",
       "   'southwest': {'lat': 37.4282973, 'lng': 126.7644837}}},\n",
       " 'place_id': 'ChIJzWXFYYuifDUR64Pq5LTtioU',\n",
       " 'types': ['locality', 'political']}"
      ]
     },
     "execution_count": 14,
     "metadata": {},
     "output_type": "execute_result"
    }
   ],
   "source": [
    "response.json()[\"results\"][0]"
   ]
  },
  {
   "cell_type": "code",
   "execution_count": 19,
   "id": "90334e8d",
   "metadata": {},
   "outputs": [
    {
     "data": {
      "text/plain": [
       "{'lat': 37.56521290000001, 'lng': 126.9773517}"
      ]
     },
     "execution_count": 19,
     "metadata": {},
     "output_type": "execute_result"
    }
   ],
   "source": [
    "location = response.json()[\"results\"][0][\"geometry\"][\"location\"]\n",
    "location"
   ]
  },
  {
   "cell_type": "code",
   "execution_count": 23,
   "id": "ece2c022",
   "metadata": {},
   "outputs": [
    {
     "data": {
      "text/plain": [
       "<Response [200]>"
      ]
     },
     "execution_count": 23,
     "metadata": {},
     "output_type": "execute_result"
    }
   ],
   "source": [
    "forecast_params={\n",
    "    \"latitude\": location[\"lat\"],\n",
    "    \"longitude\": location[\"lng\"],\n",
    "    \"current_weather\": \"true\",\n",
    "    \"timezone\": \"Asia/Seoul\",\n",
    "}\n",
    "\n",
    "response = requests.get(forecast_api_url, params=forecast_params)\n",
    "response"
   ]
  },
  {
   "cell_type": "code",
   "execution_count": 24,
   "id": "e4653c7e",
   "metadata": {},
   "outputs": [
    {
     "data": {
      "text/plain": [
       "{'latitude': 37.55,\n",
       " 'longitude': 127.0,\n",
       " 'generationtime_ms': 0.044465065002441406,\n",
       " 'utc_offset_seconds': 32400,\n",
       " 'timezone': 'Asia/Seoul',\n",
       " 'timezone_abbreviation': 'GMT+9',\n",
       " 'elevation': 35.0,\n",
       " 'current_weather_units': {'time': 'iso8601',\n",
       "  'interval': 'seconds',\n",
       "  'temperature': '°C',\n",
       "  'windspeed': 'km/h',\n",
       "  'winddirection': '°',\n",
       "  'is_day': '',\n",
       "  'weathercode': 'wmo code'},\n",
       " 'current_weather': {'time': '2025-09-16T11:00',\n",
       "  'interval': 900,\n",
       "  'temperature': 25.0,\n",
       "  'windspeed': 3.8,\n",
       "  'winddirection': 139,\n",
       "  'is_day': 1,\n",
       "  'weathercode': 1}}"
      ]
     },
     "execution_count": 24,
     "metadata": {},
     "output_type": "execute_result"
    }
   ],
   "source": [
    "response.json()"
   ]
  },
  {
   "cell_type": "code",
   "execution_count": null,
   "id": "61e9e3bf",
   "metadata": {},
   "outputs": [],
   "source": []
  },
  {
   "cell_type": "code",
   "execution_count": null,
   "id": "621d1889",
   "metadata": {},
   "outputs": [],
   "source": []
  },
  {
   "cell_type": "code",
   "execution_count": 15,
   "id": "0747f143",
   "metadata": {},
   "outputs": [
    {
     "data": {
      "text/plain": [
       "{'address_components': [{'long_name': 'Seoul',\n",
       "   'short_name': 'Seoul',\n",
       "   'types': ['administrative_area_level_1', 'political']},\n",
       "  {'long_name': 'South Korea',\n",
       "   'short_name': 'KR',\n",
       "   'types': ['country', 'political']}],\n",
       " 'formatted_address': 'Seoul, South Korea',\n",
       " 'geometry': {'bounds': {'northeast': {'lat': 37.7014549, 'lng': 127.1837949},\n",
       "   'southwest': {'lat': 37.4282973, 'lng': 126.7644837}},\n",
       "  'location': {'lat': 37.550263, 'lng': 126.9970831},\n",
       "  'location_type': 'APPROXIMATE',\n",
       "  'viewport': {'northeast': {'lat': 37.7014549, 'lng': 127.1837949},\n",
       "   'southwest': {'lat': 37.4282973, 'lng': 126.7644837}}},\n",
       " 'place_id': 'ChIJzzlcLQGifDURm_JbQKHsEX4',\n",
       " 'types': ['administrative_area_level_1', 'political']}"
      ]
     },
     "execution_count": 15,
     "metadata": {},
     "output_type": "execute_result"
    }
   ],
   "source": [
    "response.json()[\"results\"][1]"
   ]
  }
 ],
 "metadata": {
  "kernelspec": {
   "display_name": "FinalProjectAIWorkspace",
   "language": "python",
   "name": "python3"
  },
  "language_info": {
   "codemirror_mode": {
    "name": "ipython",
    "version": 3
   },
   "file_extension": ".py",
   "mimetype": "text/x-python",
   "name": "python",
   "nbconvert_exporter": "python",
   "pygments_lexer": "ipython3",
   "version": "3.13.7"
  }
 },
 "nbformat": 4,
 "nbformat_minor": 5
}
