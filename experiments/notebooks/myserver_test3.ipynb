{
 "cells": [
  {
   "cell_type": "code",
   "execution_count": 1,
   "id": "fa5d1dc4",
   "metadata": {},
   "outputs": [],
   "source": [
    "import requests, os, pandas as pd\n",
    "from dotenv import load_dotenv\n",
    "load_dotenv()\n",
    "from langchain_chroma import Chroma"
   ]
  },
  {
   "cell_type": "code",
   "execution_count": 2,
   "id": "13f6c1c1",
   "metadata": {},
   "outputs": [],
   "source": [
    "headers = {\n",
    "    \"authorization\": os.getenv(\"myserver_api_key\")\n",
    "}\n",
    "\n",
    "embed_url = os.getenv(\"myserver_url\")+\":8000/embed\"\n",
    "rerank_url = os.getenv(\"myserver_url\")+\":8000/rerank\""
   ]
  },
  {
   "cell_type": "code",
   "execution_count": 3,
   "id": "0352152b",
   "metadata": {},
   "outputs": [],
   "source": [
    "class CustomEmbeddings:\n",
    "    def embed_documents(self, texts):\n",
    "        payload = {\n",
    "            \"texts\": texts,\n",
    "            \"is_query\": False\n",
    "        }\n",
    "        return requests.post(embed_url, json=payload, headers=headers).json()[\"embeddings\"]\n",
    "    \n",
    "    def embed_query(self, text):\n",
    "        payload = {\n",
    "            \"texts\": [text],\n",
    "            \"is_query\": True\n",
    "        }\n",
    "        # return requests.post(embed_url, json=payload, headers=headers).json()[\"embeddings\"][0]\n",
    "        return requests.post(embed_url, json=payload, headers=headers)"
   ]
  },
  {
   "cell_type": "code",
   "execution_count": 4,
   "id": "8fdf6fb5",
   "metadata": {},
   "outputs": [],
   "source": [
    "embeddings = CustomEmbeddings()"
   ]
  },
  {
   "cell_type": "code",
   "execution_count": 5,
   "id": "b586654f",
   "metadata": {},
   "outputs": [],
   "source": [
    "DATA_PATH = \"../data/parent_split_docs_20250909.csv\"\n",
    "DB_PATH = \"../chroma_db\""
   ]
  },
  {
   "cell_type": "code",
   "execution_count": 6,
   "id": "f2f93f23",
   "metadata": {},
   "outputs": [],
   "source": [
    "vector_store = Chroma(\n",
    "    persist_directory=DB_PATH,\n",
    "    embedding_function=embeddings,\n",
    ")"
   ]
  },
  {
   "cell_type": "code",
   "execution_count": 7,
   "id": "6630ec1a",
   "metadata": {},
   "outputs": [],
   "source": [
    "retriever = vector_store.as_retriever(\n",
    "    search_type=\"mmr\", search_kwargs={\"k\": 10, \"fetch_k\": 50}\n",
    ")"
   ]
  },
  {
   "cell_type": "code",
   "execution_count": 8,
   "id": "7a6f16b0",
   "metadata": {},
   "outputs": [],
   "source": [
    "res = embeddings.embed_query(\"CoreFlow 휴가 규정\")"
   ]
  },
  {
   "cell_type": "code",
   "execution_count": 9,
   "id": "08d9b35b",
   "metadata": {},
   "outputs": [
    {
     "data": {
      "text/plain": [
       "<Response [500]>"
      ]
     },
     "execution_count": 9,
     "metadata": {},
     "output_type": "execute_result"
    }
   ],
   "source": [
    "res"
   ]
  },
  {
   "cell_type": "code",
   "execution_count": null,
   "id": "6a320e38",
   "metadata": {},
   "outputs": [],
   "source": []
  },
  {
   "cell_type": "code",
   "execution_count": null,
   "id": "5366aab6",
   "metadata": {},
   "outputs": [],
   "source": []
  },
  {
   "cell_type": "code",
   "execution_count": null,
   "id": "a4df4795",
   "metadata": {},
   "outputs": [],
   "source": []
  },
  {
   "cell_type": "code",
   "execution_count": null,
   "id": "e070cf5d",
   "metadata": {},
   "outputs": [],
   "source": []
  },
  {
   "cell_type": "code",
   "execution_count": null,
   "id": "d21538f0",
   "metadata": {},
   "outputs": [],
   "source": [
    "docs_list = retriever.invoke(\"CoreFlow 휴가 규정\")"
   ]
  }
 ],
 "metadata": {
  "kernelspec": {
   "display_name": "FinalProjectAIWorkspace",
   "language": "python",
   "name": "python3"
  },
  "language_info": {
   "codemirror_mode": {
    "name": "ipython",
    "version": 3
   },
   "file_extension": ".py",
   "mimetype": "text/x-python",
   "name": "python",
   "nbconvert_exporter": "python",
   "pygments_lexer": "ipython3",
   "version": "3.13.7"
  }
 },
 "nbformat": 4,
 "nbformat_minor": 5
}
